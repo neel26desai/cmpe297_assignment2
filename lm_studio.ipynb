{
 "cells": [
  {
   "cell_type": "code",
   "execution_count": 1,
   "metadata": {},
   "outputs": [
    {
     "name": "stdout",
     "output_type": "stream",
     "text": [
      "200\n"
     ]
    }
   ],
   "source": [
    "import requests\n",
    "\n",
    "# Define the API endpoint and other parameters\n",
    "url = \"http://127.0.0.1:1234/v1/chat/completions\"\n",
    "params = {\n",
    "    \"model\": \"lmstudio-community/gemma-2-2b-it-GGUF/gemma-2-2b-it-Q4_K_M.gguf\",\n",
    "    \"messages\": [\n",
    "        {\"role\": \"system\", \"content\": \"Always answer in rhymes.\"},\n",
    "        {\"role\": \"user\", \"content\": \"Tell me a joke.\"},\n",
    "    ],\n",
    "    \"temperature\": 0.7, \n",
    "    \"max_tokens\": -1,  # Set to -1 for unlimited tokens\n",
    "    \"stream\": True # Enable streaming response\n",
    "}\n",
    "\n",
    "# Make the API request using requests library\n",
    "response = requests.post(url, json=params)\n",
    "\n",
    "# Check for successful response\n",
    "if response.status_code == 200:\n",
    "    # Process the response data (extract and print the generated text if needed)\n",
    "    print(response.status_code)  \n",
    "else:\n",
    "    print(\"Error:\", response.status_code)"
   ]
  },
  {
   "cell_type": "code",
   "execution_count": 19,
   "metadata": {},
   "outputs": [],
   "source": [
    "import json"
   ]
  },
  {
   "cell_type": "code",
   "execution_count": 2,
   "metadata": {},
   "outputs": [],
   "source": [
    "import json\n",
    "\n",
    "def combine_response(response):\n",
    "    combined_content = \"\"\n",
    "    for line in response.content.decode(\"utf-8\").split(\"\\n\"):\n",
    "        if line.strip():  # Check if the line is not empty\n",
    "            try:\n",
    "                tmp = json.loads(line[6:])  # Skip the \"data: \" prefix\n",
    "            except json.JSONDecodeError:\n",
    "                pass\n",
    "            if isinstance(tmp, dict):\n",
    "                choices = tmp.get(\"choices\")\n",
    "                if choices and isinstance(choices, list) and len(choices) > 0:\n",
    "                    delta = choices[0].get(\"delta\")\n",
    "                    if delta and isinstance(delta, dict):\n",
    "                        content = delta.get(\"content\")\n",
    "                        if content:\n",
    "                            combined_content += content\n",
    "    return combined_content.strip()\n"
   ]
  },
  {
   "cell_type": "code",
   "execution_count": 3,
   "metadata": {},
   "outputs": [
    {
     "name": "stdout",
     "output_type": "stream",
     "text": [
      "Why did the golfer wear two pairs of pants? \n",
      "In case he got a hole-in-one, you understand! 🏌️‍♂️👖 😂\n"
     ]
    }
   ],
   "source": [
    "print(combine_response(response))"
   ]
  },
  {
   "cell_type": "code",
   "execution_count": null,
   "metadata": {},
   "outputs": [],
   "source": []
  }
 ],
 "metadata": {
  "kernelspec": {
   "display_name": "Python 3",
   "language": "python",
   "name": "python3"
  },
  "language_info": {
   "codemirror_mode": {
    "name": "ipython",
    "version": 3
   },
   "file_extension": ".py",
   "mimetype": "text/x-python",
   "name": "python",
   "nbconvert_exporter": "python",
   "pygments_lexer": "ipython3",
   "version": "3.11.4"
  }
 },
 "nbformat": 4,
 "nbformat_minor": 2
}
